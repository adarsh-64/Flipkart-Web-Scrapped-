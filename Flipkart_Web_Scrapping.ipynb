{
  "nbformat": 4,
  "nbformat_minor": 0,
  "metadata": {
    "colab": {
      "name": "Flipkart Web Scrapping.ipynb",
      "provenance": [],
      "collapsed_sections": [],
      "authorship_tag": "ABX9TyPG0+AgUclMF1ZXPS4qfiJ7",
      "include_colab_link": true
    },
    "kernelspec": {
      "name": "python3",
      "display_name": "Python 3"
    },
    "language_info": {
      "name": "python"
    }
  },
  "cells": [
    {
      "cell_type": "markdown",
      "metadata": {
        "id": "view-in-github",
        "colab_type": "text"
      },
      "source": [
        "<a href=\"https://colab.research.google.com/github/adarsh-64/Flipkart-Web-Scrapped-/blob/main/Flipkart_Web_Scrapping.ipynb\" target=\"_parent\"><img src=\"https://colab.research.google.com/assets/colab-badge.svg\" alt=\"Open In Colab\"/></a>"
      ]
    },
    {
      "cell_type": "code",
      "metadata": {
        "id": "VlrwzmKBe7f_"
      },
      "source": [
        "import requests\n",
        "from bs4 import BeautifulSoup\n",
        "import pandas as pd\n",
        "import time\n",
        "from IPython.display import clear_output"
      ],
      "execution_count": 3,
      "outputs": []
    },
    {
      "cell_type": "code",
      "metadata": {
        "id": "TUwB9vdxfPKV"
      },
      "source": [
        "base_url='https://www.flipkart.com/water-purifiers/pr?sid=j9e%2Cabm%2Ci45&page='"
      ],
      "execution_count": 4,
      "outputs": []
    },
    {
      "cell_type": "code",
      "metadata": {
        "colab": {
          "base_uri": "https://localhost:8080/"
        },
        "id": "ATgTSrd5M_R0",
        "outputId": "c1cd883e-16bf-450b-8ac0-f5be6be697f2"
      },
      "source": [
        "product_name=[]                  #empty lists for storing corresponding values from the website \n",
        "price_of_the_product=[]\n",
        "properties=[]\n",
        "star_ratings=[]\n",
        "no_of_ratings=[]\n",
        "no_of_reviews=[]\n",
        "\n",
        "for i in range(1,26):           #scrapping data from 25 pages\n",
        "\n",
        "  print(f'Scrapping value from {i}th page')\n",
        "  clear_output(wait=True)\n",
        "\n",
        "  time.sleep(2)\n",
        "\n",
        "  url=base_url+str(i)              #identifying the pattern of the url for 25 pages\n",
        "  req=requests.get(url)            #sending request for the website        \n",
        "  soup=BeautifulSoup(req.text,'html')  #creating soup object\n",
        "\n",
        "  #product_name\n",
        "  p_name=soup.findAll('div',attrs={'class':'col col-7-12'}) \n",
        "  for i in p_name:\n",
        "    product_name.append(i.div.text)            \n",
        "\n",
        "  #product price\n",
        "  price=soup.findAll('div',attrs={'class':'_30jeq3 _1_WHN1'})\n",
        "  for i in price:\n",
        "    price_of_the_product.append(i.text)\n",
        "\n",
        "  #product propertie\n",
        "  prop_list= soup.findAll('ul',attrs={'class':'_1xgFaf'})   \n",
        "  for i in prop_list:\n",
        "    li_list = [j.text for j in i.findAll('li')]\n",
        "    properties.append(li_list)\n",
        "    for j in properties:\n",
        "      ' , '.join(j)\n",
        "  \n",
        "  my_container=soup.find_all('div',class_='col col-7-12')\n",
        "\n",
        "  #star rating\n",
        "  for i in my_container:\n",
        "    if i.find('div',class_=\"gUuXy-\") is not None:\n",
        "      star=i.find('div',class_='gUuXy-').span.div.text\n",
        "      star_ratings.append(star)\n",
        "    else :\n",
        "      star_ratings.append('none')\n",
        "\n",
        "  #no. of ratings and reviews\n",
        "  for i in my_container:\n",
        "    if i.find('div',class_=\"gUuXy-\") is not None:\n",
        "      a=i.find('span',class_='_2_R_DZ').text\n",
        "      b=a.split()\n",
        "      no_of_ratings.append(b[0])\n",
        "      no_of_reviews.append(b[3])\n",
        "    else:\n",
        "      no_of_ratings.append('none')\n",
        "      no_of_reviews.append('none')"
      ],
      "execution_count": 5,
      "outputs": [
        {
          "output_type": "stream",
          "text": [
            "Scrapping value from 25th page\n"
          ],
          "name": "stdout"
        }
      ]
    },
    {
      "cell_type": "code",
      "metadata": {
        "colab": {
          "base_uri": "https://localhost:8080/"
        },
        "id": "JymnHymjNSAU",
        "outputId": "6a1fb074-190f-478d-c380-f077b5e6cd5d"
      },
      "source": [
        "len(product_name),len(price_of_the_product),len(properties),len(star_ratings),len(no_of_ratings),len(no_of_reviews)"
      ],
      "execution_count": 6,
      "outputs": [
        {
          "output_type": "execute_result",
          "data": {
            "text/plain": [
              "(599, 599, 599, 599, 599, 599)"
            ]
          },
          "metadata": {
            "tags": []
          },
          "execution_count": 6
        }
      ]
    },
    {
      "cell_type": "code",
      "metadata": {
        "id": "hl_VeIu0tKLb",
        "colab": {
          "base_uri": "https://localhost:8080/",
          "height": 580
        },
        "outputId": "a4395fe9-f497-406e-e4d6-15a280521789"
      },
      "source": [
        "#converting all lists into Dataframe\n",
        "data=pd.DataFrame({'product_name':product_name,'price_of_the_product':price_of_the_product,'properties':properties,'star_ratings':star_ratings,'no_of_ratings':no_of_ratings,'no_of_reviews':no_of_reviews})\n",
        "data"
      ],
      "execution_count": 7,
      "outputs": [
        {
          "output_type": "execute_result",
          "data": {
            "text/html": [
              "<div>\n",
              "<style scoped>\n",
              "    .dataframe tbody tr th:only-of-type {\n",
              "        vertical-align: middle;\n",
              "    }\n",
              "\n",
              "    .dataframe tbody tr th {\n",
              "        vertical-align: top;\n",
              "    }\n",
              "\n",
              "    .dataframe thead th {\n",
              "        text-align: right;\n",
              "    }\n",
              "</style>\n",
              "<table border=\"1\" class=\"dataframe\">\n",
              "  <thead>\n",
              "    <tr style=\"text-align: right;\">\n",
              "      <th></th>\n",
              "      <th>product_name</th>\n",
              "      <th>price_of_the_product</th>\n",
              "      <th>properties</th>\n",
              "      <th>star_ratings</th>\n",
              "      <th>no_of_ratings</th>\n",
              "      <th>no_of_reviews</th>\n",
              "    </tr>\n",
              "  </thead>\n",
              "  <tbody>\n",
              "    <tr>\n",
              "      <th>0</th>\n",
              "      <td>LIVPURE LIV-PEP-PRO-PLUS+ 7 L RO + UV + UF Wat...</td>\n",
              "      <td>₹8,999</td>\n",
              "      <td>[Electrical &amp; Storage, RO + UV + UF, 7 L Capac...</td>\n",
              "      <td>none</td>\n",
              "      <td>none</td>\n",
              "      <td>none</td>\n",
              "    </tr>\n",
              "    <tr>\n",
              "      <th>1</th>\n",
              "      <td>KENT Ace 8 L RO + UV + UF + TDS Water Purifier</td>\n",
              "      <td>₹13,999</td>\n",
              "      <td>[Electrical &amp; Storage, RO + UV + UF + TDS, 8 L...</td>\n",
              "      <td>4.4</td>\n",
              "      <td>39,144</td>\n",
              "      <td>5,163</td>\n",
              "    </tr>\n",
              "    <tr>\n",
              "      <th>2</th>\n",
              "      <td>Pureit by HUL Advanced Max 6 L Mineral RO + UV...</td>\n",
              "      <td>₹9,799</td>\n",
              "      <td>[Electrical &amp; Storage, Mineral RO + UV + MF + ...</td>\n",
              "      <td>4.4</td>\n",
              "      <td>10,679</td>\n",
              "      <td>2,407</td>\n",
              "    </tr>\n",
              "    <tr>\n",
              "      <th>3</th>\n",
              "      <td>FABER FWP GALAXY PRO 7 L RO + MAT Water Purifier</td>\n",
              "      <td>₹7,990</td>\n",
              "      <td>[Electrical &amp; Storage, RO + MAT, 7 L Capacity,...</td>\n",
              "      <td>3.5</td>\n",
              "      <td>11</td>\n",
              "      <td>1</td>\n",
              "    </tr>\n",
              "    <tr>\n",
              "      <th>4</th>\n",
              "      <td>Aquagrand Epic purify Mineral+ro+uv+uf+tds 15 ...</td>\n",
              "      <td>₹5,760</td>\n",
              "      <td>[Electrical &amp; Storage, RO + UV + UF + TDS, 15 ...</td>\n",
              "      <td>4</td>\n",
              "      <td>2,740</td>\n",
              "      <td>499</td>\n",
              "    </tr>\n",
              "    <tr>\n",
              "      <th>...</th>\n",
              "      <td>...</td>\n",
              "      <td>...</td>\n",
              "      <td>...</td>\n",
              "      <td>...</td>\n",
              "      <td>...</td>\n",
              "      <td>...</td>\n",
              "    </tr>\n",
              "    <tr>\n",
              "      <th>594</th>\n",
              "      <td>KENT ACE Plus 8 L RO + UV + UF + TDS Control +...</td>\n",
              "      <td>₹15,250</td>\n",
              "      <td>[Electrical &amp; Storage, RO + UV + UF + TDS Cont...</td>\n",
              "      <td>4.4</td>\n",
              "      <td>1,129</td>\n",
              "      <td>126</td>\n",
              "    </tr>\n",
              "    <tr>\n",
              "      <th>595</th>\n",
              "      <td>Aqua AQU- SR-GR- grand RO UV UF TDS MINIRAL wa...</td>\n",
              "      <td>₹4,750</td>\n",
              "      <td>[Electrical &amp; Storage, RO + UV + UF + TDS, 15 ...</td>\n",
              "      <td>none</td>\n",
              "      <td>none</td>\n",
              "      <td>none</td>\n",
              "    </tr>\n",
              "    <tr>\n",
              "      <th>596</th>\n",
              "      <td>Blue Star PRISTINA 8 L UV Water Purifier</td>\n",
              "      <td>₹7,200</td>\n",
              "      <td>[Electrical &amp; Storage, UV, 8 L Capacity, 1year...</td>\n",
              "      <td>none</td>\n",
              "      <td>none</td>\n",
              "      <td>none</td>\n",
              "    </tr>\n",
              "    <tr>\n",
              "      <th>597</th>\n",
              "      <td>Aquagrand Shine Normal Alkaline + ro + uv + uf...</td>\n",
              "      <td>₹5,299</td>\n",
              "      <td>[Electrical &amp; Storage, RO + UV + UF + TDS, 12 ...</td>\n",
              "      <td>none</td>\n",
              "      <td>none</td>\n",
              "      <td>none</td>\n",
              "    </tr>\n",
              "    <tr>\n",
              "      <th>598</th>\n",
              "      <td>FABER FWP GALAXY FRESH 7 L RO + UV + MAT + pH ...</td>\n",
              "      <td>₹9,490</td>\n",
              "      <td>[Electrical &amp; Storage, RO + UV + MAT + pH Enha...</td>\n",
              "      <td>3.7</td>\n",
              "      <td>7</td>\n",
              "      <td>4</td>\n",
              "    </tr>\n",
              "  </tbody>\n",
              "</table>\n",
              "<p>599 rows × 6 columns</p>\n",
              "</div>"
            ],
            "text/plain": [
              "                                          product_name  ... no_of_reviews\n",
              "0    LIVPURE LIV-PEP-PRO-PLUS+ 7 L RO + UV + UF Wat...  ...          none\n",
              "1       KENT Ace 8 L RO + UV + UF + TDS Water Purifier  ...         5,163\n",
              "2    Pureit by HUL Advanced Max 6 L Mineral RO + UV...  ...         2,407\n",
              "3     FABER FWP GALAXY PRO 7 L RO + MAT Water Purifier  ...             1\n",
              "4    Aquagrand Epic purify Mineral+ro+uv+uf+tds 15 ...  ...           499\n",
              "..                                                 ...  ...           ...\n",
              "594  KENT ACE Plus 8 L RO + UV + UF + TDS Control +...  ...           126\n",
              "595  Aqua AQU- SR-GR- grand RO UV UF TDS MINIRAL wa...  ...          none\n",
              "596           Blue Star PRISTINA 8 L UV Water Purifier  ...          none\n",
              "597  Aquagrand Shine Normal Alkaline + ro + uv + uf...  ...          none\n",
              "598  FABER FWP GALAXY FRESH 7 L RO + UV + MAT + pH ...  ...             4\n",
              "\n",
              "[599 rows x 6 columns]"
            ]
          },
          "metadata": {
            "tags": []
          },
          "execution_count": 7
        }
      ]
    },
    {
      "cell_type": "code",
      "metadata": {
        "id": "usSwlzX0vpno"
      },
      "source": [
        "data.to_csv('flipkart_water_purifier_list.csv',index=False) #converting our dataframe to csv file"
      ],
      "execution_count": 8,
      "outputs": []
    },
    {
      "cell_type": "code",
      "metadata": {
        "id": "QCvDpxxuwkhU"
      },
      "source": [
        "\n",
        "  "
      ],
      "execution_count": null,
      "outputs": []
    },
    {
      "cell_type": "code",
      "metadata": {
        "id": "TpWs98e0fPXJ"
      },
      "source": [
        ""
      ],
      "execution_count": null,
      "outputs": []
    },
    {
      "cell_type": "code",
      "metadata": {
        "id": "uKt3Wat8fPZ1"
      },
      "source": [
        ""
      ],
      "execution_count": null,
      "outputs": []
    }
  ]
}